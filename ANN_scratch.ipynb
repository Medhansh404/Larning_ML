{
 "cells": [
  {
   "cell_type": "code",
   "execution_count": 37,
   "id": "c9057995",
   "metadata": {},
   "outputs": [],
   "source": [
    "# Shoutout to the YT channel @samson for the inspiration "
   ]
  },
  {
   "cell_type": "markdown",
   "id": "15f0ae46",
   "metadata": {},
   "source": [
    "# Today i'll be implementing ANN in python from scratch without using tensorflow."
   ]
  },
  {
   "cell_type": "code",
   "execution_count": 38,
   "id": "f8241603",
   "metadata": {},
   "outputs": [],
   "source": [
    "# Lets's begin \n",
    "# Maths behind the ANN \n",
    "# We make input np arrays as we can't perform \"Maths\" on df duhhhh and pandas not allowed :)\n",
    "# We also convert the data to be fed to any different layers \n",
    "# 1). This layer will be the input layer there will be 784 (28*28) values as input\n",
    "# random weights and biases(-0.5, 0.5) will be appointed to the hidden layer 1 output\n",
    "# 2). This is the hidden layer 1 where we are using activation function ReLU and we propogate to the nes=ext layer\n",
    "# again during propagation we add some weights and biases moving ahead\n",
    "# 3). This is the hidden layer 2 where we get result from hidden layer 1 and we have decided to apply softmax on this layer\n",
    "# We get the answer from the maximum of all the softmax values.\n",
    "# This is not it though the beauty of neural networks lie in thier upadation tendencies that is where the \"Learning\" part comes in\n",
    "# Here we will propagate back to update the weights in the earlier layers as per the deviation of the predicted value with the real value.\n",
    "# and we will this till we achieve a grasp of the data\n",
    "# Similar logic to regression thing.\n",
    "# ANN is just a glorified and multidimensional regression without the activation functions(What i think)\n",
    "# At last we can apply some analysing measures to see our results "
   ]
  },
  {
   "cell_type": "code",
   "execution_count": 39,
   "id": "c291bf8f",
   "metadata": {
    "scrolled": true
   },
   "outputs": [
    {
     "data": {
      "text/html": [
       "<div>\n",
       "<style scoped>\n",
       "    .dataframe tbody tr th:only-of-type {\n",
       "        vertical-align: middle;\n",
       "    }\n",
       "\n",
       "    .dataframe tbody tr th {\n",
       "        vertical-align: top;\n",
       "    }\n",
       "\n",
       "    .dataframe thead th {\n",
       "        text-align: right;\n",
       "    }\n",
       "</style>\n",
       "<table border=\"1\" class=\"dataframe\">\n",
       "  <thead>\n",
       "    <tr style=\"text-align: right;\">\n",
       "      <th></th>\n",
       "      <th>label</th>\n",
       "      <th>pixel0</th>\n",
       "      <th>pixel1</th>\n",
       "      <th>pixel2</th>\n",
       "      <th>pixel3</th>\n",
       "      <th>pixel4</th>\n",
       "      <th>pixel5</th>\n",
       "      <th>pixel6</th>\n",
       "      <th>pixel7</th>\n",
       "      <th>pixel8</th>\n",
       "      <th>...</th>\n",
       "      <th>pixel774</th>\n",
       "      <th>pixel775</th>\n",
       "      <th>pixel776</th>\n",
       "      <th>pixel777</th>\n",
       "      <th>pixel778</th>\n",
       "      <th>pixel779</th>\n",
       "      <th>pixel780</th>\n",
       "      <th>pixel781</th>\n",
       "      <th>pixel782</th>\n",
       "      <th>pixel783</th>\n",
       "    </tr>\n",
       "  </thead>\n",
       "  <tbody>\n",
       "    <tr>\n",
       "      <th>0</th>\n",
       "      <td>1</td>\n",
       "      <td>0</td>\n",
       "      <td>0</td>\n",
       "      <td>0</td>\n",
       "      <td>0</td>\n",
       "      <td>0</td>\n",
       "      <td>0</td>\n",
       "      <td>0</td>\n",
       "      <td>0</td>\n",
       "      <td>0</td>\n",
       "      <td>...</td>\n",
       "      <td>0</td>\n",
       "      <td>0</td>\n",
       "      <td>0</td>\n",
       "      <td>0</td>\n",
       "      <td>0</td>\n",
       "      <td>0</td>\n",
       "      <td>0</td>\n",
       "      <td>0</td>\n",
       "      <td>0</td>\n",
       "      <td>0</td>\n",
       "    </tr>\n",
       "    <tr>\n",
       "      <th>1</th>\n",
       "      <td>0</td>\n",
       "      <td>0</td>\n",
       "      <td>0</td>\n",
       "      <td>0</td>\n",
       "      <td>0</td>\n",
       "      <td>0</td>\n",
       "      <td>0</td>\n",
       "      <td>0</td>\n",
       "      <td>0</td>\n",
       "      <td>0</td>\n",
       "      <td>...</td>\n",
       "      <td>0</td>\n",
       "      <td>0</td>\n",
       "      <td>0</td>\n",
       "      <td>0</td>\n",
       "      <td>0</td>\n",
       "      <td>0</td>\n",
       "      <td>0</td>\n",
       "      <td>0</td>\n",
       "      <td>0</td>\n",
       "      <td>0</td>\n",
       "    </tr>\n",
       "    <tr>\n",
       "      <th>2</th>\n",
       "      <td>1</td>\n",
       "      <td>0</td>\n",
       "      <td>0</td>\n",
       "      <td>0</td>\n",
       "      <td>0</td>\n",
       "      <td>0</td>\n",
       "      <td>0</td>\n",
       "      <td>0</td>\n",
       "      <td>0</td>\n",
       "      <td>0</td>\n",
       "      <td>...</td>\n",
       "      <td>0</td>\n",
       "      <td>0</td>\n",
       "      <td>0</td>\n",
       "      <td>0</td>\n",
       "      <td>0</td>\n",
       "      <td>0</td>\n",
       "      <td>0</td>\n",
       "      <td>0</td>\n",
       "      <td>0</td>\n",
       "      <td>0</td>\n",
       "    </tr>\n",
       "    <tr>\n",
       "      <th>3</th>\n",
       "      <td>4</td>\n",
       "      <td>0</td>\n",
       "      <td>0</td>\n",
       "      <td>0</td>\n",
       "      <td>0</td>\n",
       "      <td>0</td>\n",
       "      <td>0</td>\n",
       "      <td>0</td>\n",
       "      <td>0</td>\n",
       "      <td>0</td>\n",
       "      <td>...</td>\n",
       "      <td>0</td>\n",
       "      <td>0</td>\n",
       "      <td>0</td>\n",
       "      <td>0</td>\n",
       "      <td>0</td>\n",
       "      <td>0</td>\n",
       "      <td>0</td>\n",
       "      <td>0</td>\n",
       "      <td>0</td>\n",
       "      <td>0</td>\n",
       "    </tr>\n",
       "    <tr>\n",
       "      <th>4</th>\n",
       "      <td>0</td>\n",
       "      <td>0</td>\n",
       "      <td>0</td>\n",
       "      <td>0</td>\n",
       "      <td>0</td>\n",
       "      <td>0</td>\n",
       "      <td>0</td>\n",
       "      <td>0</td>\n",
       "      <td>0</td>\n",
       "      <td>0</td>\n",
       "      <td>...</td>\n",
       "      <td>0</td>\n",
       "      <td>0</td>\n",
       "      <td>0</td>\n",
       "      <td>0</td>\n",
       "      <td>0</td>\n",
       "      <td>0</td>\n",
       "      <td>0</td>\n",
       "      <td>0</td>\n",
       "      <td>0</td>\n",
       "      <td>0</td>\n",
       "    </tr>\n",
       "  </tbody>\n",
       "</table>\n",
       "<p>5 rows × 785 columns</p>\n",
       "</div>"
      ],
      "text/plain": [
       "   label  pixel0  pixel1  pixel2  pixel3  pixel4  pixel5  pixel6  pixel7  \\\n",
       "0      1       0       0       0       0       0       0       0       0   \n",
       "1      0       0       0       0       0       0       0       0       0   \n",
       "2      1       0       0       0       0       0       0       0       0   \n",
       "3      4       0       0       0       0       0       0       0       0   \n",
       "4      0       0       0       0       0       0       0       0       0   \n",
       "\n",
       "   pixel8  ...  pixel774  pixel775  pixel776  pixel777  pixel778  pixel779  \\\n",
       "0       0  ...         0         0         0         0         0         0   \n",
       "1       0  ...         0         0         0         0         0         0   \n",
       "2       0  ...         0         0         0         0         0         0   \n",
       "3       0  ...         0         0         0         0         0         0   \n",
       "4       0  ...         0         0         0         0         0         0   \n",
       "\n",
       "   pixel780  pixel781  pixel782  pixel783  \n",
       "0         0         0         0         0  \n",
       "1         0         0         0         0  \n",
       "2         0         0         0         0  \n",
       "3         0         0         0         0  \n",
       "4         0         0         0         0  \n",
       "\n",
       "[5 rows x 785 columns]"
      ]
     },
     "execution_count": 39,
     "metadata": {},
     "output_type": "execute_result"
    }
   ],
   "source": [
    "import pandas as pd\n",
    "import numpy as np\n",
    "# Loading the MNIST digit recognition dataset for this model\n",
    "data = pd.read_csv(\"./MNIST.csv\")\n",
    "data.head()"
   ]
  },
  {
   "cell_type": "code",
   "execution_count": 40,
   "id": "341e9704",
   "metadata": {},
   "outputs": [],
   "source": [
    "# Ok no cheating \n",
    "data = np.array(data)\n",
    "m, n = data.shape\n",
    "\n",
    "np.random.shuffle(data) # shuffling before splitting into test and training sets\n",
    "\n"
   ]
  },
  {
   "cell_type": "code",
   "execution_count": 41,
   "id": "d708f954",
   "metadata": {},
   "outputs": [],
   "source": [
    "data_test = data[0:1000].T\n",
    "Y_test = data_test[0]\n",
    "X_test = data_test[1:n]\n",
    "X_test = X_test / 255.\n",
    "\n"
   ]
  },
  {
   "cell_type": "code",
   "execution_count": 42,
   "id": "99c7e798",
   "metadata": {},
   "outputs": [],
   "source": [
    "data_train = data[1000:m].T\n",
    "Y_train = data_train[0]\n",
    "X_train = data_train[1:n]\n",
    "X_train = X_train / 255.\n",
    "_,m_train = X_train.shape"
   ]
  },
  {
   "cell_type": "code",
   "execution_count": 43,
   "id": "7c5c189f",
   "metadata": {},
   "outputs": [
    {
     "data": {
      "text/plain": [
       "array([6, 9, 7, ..., 5, 4, 9], dtype=int64)"
      ]
     },
     "execution_count": 43,
     "metadata": {},
     "output_type": "execute_result"
    }
   ],
   "source": [
    "Y_train"
   ]
  },
  {
   "cell_type": "code",
   "execution_count": 44,
   "id": "70486d78",
   "metadata": {},
   "outputs": [],
   "source": [
    "# Now we start the maths part\n",
    "# Before anything we should define the activation functions and their derivativefor our ease \n",
    "\n",
    "def ReLU(z):\n",
    "    return np.maximum(z,0)\n",
    "\n",
    "def softmax(z):\n",
    "    A = np.exp(z)/sum(np.exp(z))\n",
    "    return A\n",
    "\n",
    "def ReLU_deriv(Z):\n",
    "    return Z > 0"
   ]
  },
  {
   "cell_type": "code",
   "execution_count": 45,
   "id": "ddec464d",
   "metadata": {},
   "outputs": [],
   "source": [
    "# This is the function for getting y in the proper format when we have to compare it with the output of our fwd prop function\n",
    "def modified_Y(Y):\n",
    "    modf_Y = np.zeros((Y.size, Y.max() + 1))\n",
    "    modf_Y[np.arange(Y.size), Y] = 1\n",
    "    modf_Y = modf_Y.T\n",
    "    return modf_Y"
   ]
  },
  {
   "cell_type": "code",
   "execution_count": 46,
   "id": "d2b52f2a",
   "metadata": {},
   "outputs": [],
   "source": [
    "# initialising random variables for weights in layers\n",
    "def init_params():\n",
    "    W1 = np.random.rand(10, 784) - 0.5\n",
    "    b1 = np.random.rand(10,1) -0.5\n",
    "    W2 = np.random.rand(10, 10) - 0.5\n",
    "    b2 = np.random.rand(10,1) -0.5\n",
    "    return W1, b1, W2, b2\n",
    "# Now we forward propogate with the weightds and biaes in our hand\n",
    "def fwd_prop(W1, W2, b1, b2, X):\n",
    "    Z1 = W1.dot(X) + b1\n",
    "    A1 = ReLU(Z1)\n",
    "    Z2 = W2.dot(A1) + b2\n",
    "    A2 = softmax(Z2)\n",
    "    return Z1, A1, Z2, A2\n",
    "# Now we back propogate\n",
    "def back_prop(W1, W2, A1, A2, Z1, Z2, X, Y):\n",
    "    modf_Y = modified_Y(Y)\n",
    "    dZ2 = A2 - modf_Y\n",
    "    dW2 = 1 / m * dZ2.dot(A1.T)\n",
    "    db2 = 1 / m * np.sum(dZ2)\n",
    "    dZ1 = W2.dot(dZ2) * ReLU_deriv(Z1)\n",
    "    dW1 = 1 / m * dZ1.dot(X.T)\n",
    "    db1 = 1 / m * np.sum(dZ1)\n",
    "    return dW1, db1, dW2, db2\n",
    "# Upgrading the weights from what we leared\n",
    "def update_params(W1, b1, W2, b2, dW1, db1, dW2, db2, alpha):\n",
    "    W1 = W1 - alpha * dW1\n",
    "    b1 = b1 - alpha * db1    \n",
    "    W2 = W2 - alpha * dW2  \n",
    "    b2 = b2 - alpha * db2    \n",
    "    return W1, b1, W2, b2\n"
   ]
  },
  {
   "cell_type": "code",
   "execution_count": 47,
   "id": "4d1097ef",
   "metadata": {},
   "outputs": [],
   "source": [
    "# Analysising our model through accuracy and visualisisng\n",
    "\n",
    "def get_predictions(A2):\n",
    "    return np.argmax(A2, 0)\n",
    "\n",
    "def get_accuracy(predictions, Y):\n",
    "    print(predictions, Y)\n",
    "    return np.sum(predictions == Y) / Y.size\n",
    "\n",
    "# Runs the process of fwd and bckwd prop miultiple times to refine our model \n",
    "\n",
    "def gradient_descent(X, Y, alpha, iterations):\n",
    "    W1, b1, W2, b2 = init_params()\n",
    "    for i in range(iterations):\n",
    "        Z1, A1, Z2, A2 = fwd_prop(W1, W2, b1, b2, X)\n",
    "        dW1, db1, dW2, db2 = back_prop(W1, W2, A1, A2, Z1, Z2, X, Y)\n",
    "        W1, b1, W2, b2 = update_params(W1, b1, W2, b2, dW1, db1, dW2, db2, alpha)\n",
    "        if i % 50 == 0:\n",
    "            print(\"Iteration: \", i)\n",
    "            predictions = get_predictions(A2)\n",
    "            print(get_accuracy(predictions, Y))\n",
    "    return W1, b1, W2, b2"
   ]
  },
  {
   "cell_type": "code",
   "execution_count": 48,
   "id": "9aeba907",
   "metadata": {},
   "outputs": [
    {
     "name": "stdout",
     "output_type": "stream",
     "text": [
      "Iteration:  0\n",
      "[2 4 4 ... 2 6 2] [6 9 7 ... 5 4 9]\n",
      "0.12797560975609756\n",
      "Iteration:  50\n",
      "[0 4 9 ... 3 4 9] [6 9 7 ... 5 4 9]\n",
      "0.4961219512195122\n",
      "Iteration:  100\n",
      "[0 9 7 ... 3 4 9] [6 9 7 ... 5 4 9]\n",
      "0.6340975609756098\n",
      "Iteration:  150\n",
      "[6 9 7 ... 3 4 9] [6 9 7 ... 5 4 9]\n",
      "0.702780487804878\n",
      "Iteration:  200\n",
      "[6 9 7 ... 3 4 9] [6 9 7 ... 5 4 9]\n",
      "0.7438292682926829\n",
      "Iteration:  250\n",
      "[6 9 7 ... 3 4 9] [6 9 7 ... 5 4 9]\n",
      "0.7706585365853659\n",
      "Iteration:  300\n",
      "[6 9 7 ... 3 4 9] [6 9 7 ... 5 4 9]\n",
      "0.7893414634146342\n",
      "Iteration:  350\n",
      "[6 9 7 ... 3 4 9] [6 9 7 ... 5 4 9]\n",
      "0.8033658536585366\n",
      "Iteration:  400\n",
      "[6 9 7 ... 3 4 9] [6 9 7 ... 5 4 9]\n",
      "0.8156097560975609\n",
      "Iteration:  450\n",
      "[6 9 7 ... 3 4 9] [6 9 7 ... 5 4 9]\n",
      "0.8246829268292682\n"
     ]
    }
   ],
   "source": [
    "# Testing with learning rate of 0.10\n",
    "W1, b1, W2, b2 = gradient_descent(X_train, Y_train, 0.10, 500)"
   ]
  },
  {
   "cell_type": "code",
   "execution_count": 55,
   "id": "7f8218ef",
   "metadata": {},
   "outputs": [],
   "source": [
    "from matplotlib import pyplot as plt\n",
    "def make_predictions(X, W1, b1, W2, b2):\n",
    "    _, _, _, A2 = fwd_prop(W1, W2, b1, b2, X)\n",
    "    predictions = get_predictions(A2)\n",
    "    return predictions\n",
    "\n",
    "def test_prediction(index, W1, b1, W2, b2):\n",
    "    current_image = X_train[:, index, None]\n",
    "    prediction = make_predictions(X_train[:, index, None], W1, b1, W2, b2)\n",
    "    label = Y_train[index]\n",
    "    print(\"Prediction: \", prediction)\n",
    "    print(\"Label: \", label)\n",
    "    \n",
    "    current_image = current_image.reshape((28, 28)) * 255\n",
    "    plt.gray()\n",
    "    plt.imshow(current_image, interpolation='nearest')\n",
    "    plt.show()"
   ]
  },
  {
   "cell_type": "code",
   "execution_count": 56,
   "id": "342bf733",
   "metadata": {},
   "outputs": [
    {
     "name": "stdout",
     "output_type": "stream",
     "text": [
      "[5 3 7 9 7 7 4 3 8 9 0 8 4 6 2 1 2 8 8 1 2 0 8 7 7 6 6 3 0 8 5 6 2 1 9 3 5\n",
      " 2 9 7 4 2 5 3 5 0 2 3 6 7 9 4 3 4 1 1 1 8 8 1 4 4 2 1 8 0 4 9 3 4 4 3 6 6\n",
      " 0 3 6 8 2 9 7 6 1 5 4 1 7 5 6 3 8 1 8 6 5 8 3 9 1 4 8 3 5 1 0 9 0 0 7 5 6\n",
      " 9 5 7 2 1 9 7 3 1 2 6 9 2 9 5 6 4 2 7 9 2 3 1 2 2 8 3 9 8 8 1 0 7 3 5 3 9\n",
      " 7 2 8 2 5 6 3 9 1 7 8 8 0 5 0 9 0 6 0 7 3 8 9 6 3 6 7 6 0 1 5 3 5 3 2 6 3\n",
      " 7 6 3 6 1 1 6 8 1 2 0 0 3 6 5 3 2 7 1 6 6 6 1 5 5 9 4 0 1 0 0 8 3 6 3 5 0\n",
      " 3 8 7 0 7 6 0 9 9 9 4 2 5 7 2 6 3 8 1 7 1 4 1 3 6 1 8 9 1 7 4 7 8 2 2 9 2\n",
      " 7 7 8 5 5 2 4 1 7 0 2 1 0 4 2 9 2 8 1 1 9 0 1 4 5 3 8 1 4 4 8 0 9 2 3 0 0\n",
      " 1 7 3 7 6 8 2 8 0 9 1 0 6 3 2 4 8 2 8 7 9 1 5 7 2 6 8 1 0 3 2 1 1 2 7 7 9\n",
      " 6 4 1 9 4 0 4 9 6 7 4 0 0 7 6 9 5 1 9 8 5 4 2 8 6 0 4 9 7 9 5 1 0 1 0 3 1\n",
      " 6 8 9 8 6 2 7 5 7 3 5 5 3 0 2 7 5 9 1 6 0 3 9 1 6 4 8 5 5 7 1 6 2 7 3 6 9\n",
      " 2 7 3 6 1 2 6 1 5 7 9 3 2 8 9 6 2 2 8 5 0 6 6 4 9 4 6 0 8 6 1 1 5 6 0 1 6\n",
      " 9 1 1 9 7 0 8 7 8 1 6 4 1 1 5 4 4 6 9 9 0 4 6 0 8 0 0 5 8 3 4 4 5 4 6 3 8\n",
      " 1 6 5 9 4 2 9 8 9 4 5 1 7 6 7 7 3 0 1 1 4 4 8 0 6 9 4 2 2 2 7 9 1 6 1 9 4\n",
      " 8 6 1 1 0 2 0 6 5 8 0 0 1 7 8 4 4 9 0 6 8 4 9 2 6 8 0 4 3 5 6 6 4 5 7 9 9\n",
      " 1 3 2 3 6 5 5 0 4 9 4 7 1 4 7 0 4 3 0 7 8 8 1 4 6 9 4 1 9 2 9 9 4 4 1 7 7\n",
      " 1 2 4 3 8 4 9 4 7 6 4 9 8 4 2 9 4 1 1 2 4 4 1 4 7 6 5 4 2 3 7 9 3 4 9 2 8\n",
      " 7 3 9 7 0 1 8 2 4 9 0 9 0 4 2 7 4 4 8 9 8 2 2 9 0 2 3 5 2 0 2 9 3 6 7 7 9\n",
      " 1 7 9 3 0 8 3 1 9 0 0 0 2 4 1 5 5 1 4 8 8 7 7 8 8 8 2 0 4 4 1 3 9 0 7 6 4\n",
      " 2 2 3 0 0 0 9 9 0 3 3 1 1 7 5 2 0 2 9 7 0 3 9 4 7 3 0 2 3 9 0 1 5 5 0 2 1\n",
      " 5 5 2 9 6 5 7 5 7 9 9 7 2 0 8 4 6 8 1 0 0 3 6 7 3 0 4 3 8 1 1 0 3 4 5 3 5\n",
      " 7 2 4 5 2 9 5 2 0 1 7 9 3 7 8 3 5 5 0 1 7 5 6 1 0 9 1 4 2 5 9 2 5 8 9 9 7\n",
      " 3 1 2 9 4 7 6 0 7 4 1 4 4 2 2 2 7 0 0 7 2 9 8 7 0 1 4 0 6 4 1 2 7 5 8 8 7\n",
      " 1 8 7 5 0 5 2 3 7 9 1 3 4 5 8 6 6 7 4 1 4 6 7 8 1 7 8 9 2 0 0 9 1 9 8 9 0\n",
      " 2 3 0 5 6 3 4 4 5 8 7 5 5 7 7 2 2 5 4 8 7 9 2 1 8 9 6 2 7 9 6 7 7 6 6 7 9\n",
      " 1 0 6 9 6 3 7 1 2 3 3 2 5 3 0 8 1 4 7 5 7 9 7 3 1 2 9 9 6 4 0 8 8 7 6 9 9\n",
      " 2 5 7 2 5 0 9 2 4 4 2 5 0 3 1 6 8 1 1 4 2 3 0 1 6 4 1 7 6 0 1 5 8 2 2 1 8\n",
      " 5] [5 3 7 9 7 7 4 3 8 7 7 8 4 6 5 1 2 8 8 1 2 0 3 7 7 6 6 2 0 8 5 0 2 1 9 3 5\n",
      " 2 9 7 4 2 5 8 0 0 2 3 6 7 9 5 5 5 1 1 1 8 9 1 4 4 2 1 8 0 4 9 3 4 4 3 6 6\n",
      " 0 2 6 8 2 9 7 6 1 5 4 1 7 8 2 3 8 1 8 5 5 8 3 9 8 4 1 3 5 1 0 9 0 0 5 5 6\n",
      " 9 5 9 2 7 9 7 3 8 2 6 2 9 8 5 6 4 2 7 9 2 9 1 2 2 4 3 9 8 8 1 0 7 5 5 5 9\n",
      " 7 6 8 2 8 6 0 9 1 7 8 8 0 5 0 9 2 6 0 7 3 8 9 6 0 6 7 6 0 1 5 5 5 3 2 6 3\n",
      " 7 6 3 6 1 1 2 8 1 2 0 0 1 6 5 3 2 7 1 6 6 6 1 5 0 9 7 0 1 0 0 8 3 6 6 5 0\n",
      " 5 8 7 0 7 6 0 9 9 9 4 4 8 7 2 6 3 8 1 7 1 4 1 3 6 1 8 9 1 7 4 7 8 2 2 9 2\n",
      " 7 7 8 5 5 2 4 1 7 0 2 1 0 9 2 9 0 8 1 1 9 0 8 4 5 2 8 3 6 4 8 6 9 2 3 2 0\n",
      " 9 7 2 7 6 8 6 8 0 7 1 0 6 3 2 9 1 2 8 7 9 6 5 7 0 4 8 1 0 3 2 1 1 2 7 7 9\n",
      " 6 4 8 9 4 0 4 9 6 7 4 0 0 7 6 9 0 1 9 8 5 4 2 8 6 0 9 9 7 9 5 1 0 1 0 3 1\n",
      " 6 8 9 8 6 2 7 5 7 3 5 8 3 0 2 7 8 9 1 2 0 5 9 1 6 4 4 5 5 7 1 6 3 7 3 6 9\n",
      " 2 7 3 6 1 2 6 1 5 7 9 5 2 8 9 6 3 2 8 0 0 2 6 4 9 4 6 0 3 6 1 1 4 6 3 1 6\n",
      " 9 1 1 9 7 6 9 7 8 1 6 4 1 1 5 5 9 2 9 2 0 6 6 2 8 0 6 5 8 3 4 9 9 4 6 9 8\n",
      " 1 5 5 9 4 2 9 8 9 9 5 1 7 6 7 7 3 0 1 1 4 4 8 0 5 9 4 2 2 2 7 9 1 6 1 9 4\n",
      " 1 6 1 1 0 2 0 6 5 8 0 0 1 7 5 6 4 9 0 6 8 4 9 2 6 8 0 4 3 0 6 6 9 5 7 9 9\n",
      " 1 5 2 3 6 5 0 0 4 8 4 4 1 4 7 0 4 3 0 7 8 5 1 4 6 9 4 1 9 2 9 9 4 9 9 7 7\n",
      " 9 2 4 3 8 5 7 4 7 6 4 9 8 4 2 7 4 1 1 2 4 5 1 4 7 6 5 9 2 3 7 9 3 4 2 5 5\n",
      " 7 3 9 5 0 1 9 2 4 7 0 9 0 4 7 7 4 6 8 9 8 2 2 9 0 3 3 5 2 0 2 5 3 6 2 7 8\n",
      " 1 7 9 3 0 3 3 1 9 0 0 0 2 4 1 5 5 1 6 8 8 7 7 8 8 8 2 0 4 9 1 3 9 3 7 6 4\n",
      " 2 2 3 6 0 0 9 9 0 3 3 1 3 7 3 2 5 0 9 7 0 3 7 4 7 3 0 6 3 4 0 1 2 5 0 2 1\n",
      " 5 3 2 7 6 5 7 5 1 9 3 7 6 0 8 4 6 8 1 0 0 3 6 7 3 0 4 3 8 1 1 0 3 4 5 2 5\n",
      " 7 8 9 0 2 4 5 2 0 1 7 9 3 7 3 2 5 5 0 1 7 5 6 1 0 2 1 4 2 5 9 2 5 8 9 9 7\n",
      " 3 1 2 9 4 7 6 0 7 4 1 4 4 2 2 2 2 0 0 7 2 9 8 7 0 8 4 0 6 5 9 2 5 5 8 8 9\n",
      " 1 5 7 5 0 5 2 3 7 7 1 3 9 9 0 6 6 7 4 1 4 6 7 8 1 7 8 9 6 0 0 9 1 8 8 9 0\n",
      " 2 3 0 5 6 3 5 4 5 3 7 5 5 7 7 2 2 5 4 8 7 9 2 1 8 9 2 2 7 9 6 7 7 6 6 7 9\n",
      " 1 0 6 9 6 3 7 1 2 3 3 2 5 3 0 8 1 4 7 5 7 9 7 8 1 2 4 9 6 2 0 8 8 7 6 4 9\n",
      " 2 8 7 2 5 2 9 2 4 4 2 8 6 3 1 5 8 1 1 4 0 3 6 1 6 4 1 7 6 0 1 5 8 7 2 1 8\n",
      " 8]\n"
     ]
    },
    {
     "data": {
      "text/plain": [
       "0.824"
      ]
     },
     "execution_count": 56,
     "metadata": {},
     "output_type": "execute_result"
    }
   ],
   "source": [
    "dev_predictions = make_predictions(X_test, W1, b1, W2, b2)\n",
    "get_accuracy(dev_predictions, Y_test)"
   ]
  },
  {
   "cell_type": "code",
   "execution_count": 57,
   "id": "1949068b",
   "metadata": {},
   "outputs": [
    {
     "name": "stdout",
     "output_type": "stream",
     "text": [
      "Prediction:  [9]\n",
      "Label:  9\n"
     ]
    },
    {
     "data": {
      "image/png": "[encoded data removed]",
      "text/plain": [
       "<Figure size 640x480 with 1 Axes>"
      ]
     },
     "metadata": {},
     "output_type": "display_data"
    }
   ],
   "source": [
    "test_prediction(1, W1, b1, W2, b2)"
   ]
  },
  {
   "cell_type": "code",
   "execution_count": null,
   "id": "8e029e42",
   "metadata": {},
   "outputs": [],
   "source": []
  }
 ],
 "metadata": {
  "kernelspec": {
   "display_name": "Python 3 (ipykernel)",
   "language": "python",
   "name": "python3"
  },
  "language_info": {
   "codemirror_mode": {
    "name": "ipython",
    "version": 3
   },
   "file_extension": ".py",
   "mimetype": "text/x-python",
   "name": "python",
   "nbconvert_exporter": "python",
   "pygments_lexer": "ipython3",
   "version": "3.10.6"
  }
 },
 "nbformat": 4,
 "nbformat_minor": 5
}
